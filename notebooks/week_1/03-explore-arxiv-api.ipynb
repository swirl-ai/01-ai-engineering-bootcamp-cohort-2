{
 "cells": [
  {
   "cell_type": "code",
   "execution_count": null,
   "id": "44db54b4",
   "metadata": {},
   "outputs": [],
   "source": [
    "import requests\n",
    "from urllib.parse import quote, urlencode"
   ]
  },
  {
   "cell_type": "markdown",
   "id": "2c925d25",
   "metadata": {},
   "source": [
    "You can find detailed docummentation about retrieving ArXive data via their REST API here: https://info.arxiv.org/help/api/user-manual.html"
   ]
  },
  {
   "cell_type": "markdown",
   "id": "faf5fccf",
   "metadata": {},
   "source": [
    "#### URL for querying ArXiv papers"
   ]
  },
  {
   "cell_type": "code",
   "execution_count": null,
   "id": "bafa9641",
   "metadata": {},
   "outputs": [],
   "source": [
    "BASE_URL = \"https://export.arxiv.org/api/query\""
   ]
  },
  {
   "cell_type": "markdown",
   "id": "4f347fab",
   "metadata": {},
   "source": [
    "#### Compose a Search Query"
   ]
  },
  {
   "cell_type": "code",
   "execution_count": null,
   "id": "a117d13a",
   "metadata": {},
   "outputs": [],
   "source": [
    "category_filter = \"cat:cs.AI\"\n",
    "date_filter = \"submittedDate:[202501010000+TO+202510012359]\"\n",
    "search_query = f\"{category_filter} AND {date_filter}\""
   ]
  },
  {
   "cell_type": "markdown",
   "id": "a2494a87",
   "metadata": {},
   "source": [
    "#### Configure other parameters and transform them into a query"
   ]
  },
  {
   "cell_type": "code",
   "execution_count": null,
   "id": "23e9944e",
   "metadata": {},
   "outputs": [],
   "source": [
    "params = {\n",
    "    \"search_query\": search_query,\n",
    "    \"start\": 0,\n",
    "    \"max_results\": 20,\n",
    "}\n",
    "query = urlencode(params, quote_via=quote, safe=\":+[]*\")"
   ]
  },
  {
   "cell_type": "code",
   "execution_count": null,
   "id": "a1ed7f23",
   "metadata": {},
   "outputs": [],
   "source": [
    "query"
   ]
  },
  {
   "cell_type": "markdown",
   "id": "648905d9",
   "metadata": {},
   "source": [
    "#### Construct a URL for a GET request"
   ]
  },
  {
   "cell_type": "code",
   "execution_count": null,
   "id": "f8564799",
   "metadata": {},
   "outputs": [],
   "source": [
    "get_url = f\"{BASE_URL}?{query}\""
   ]
  },
  {
   "cell_type": "code",
   "execution_count": null,
   "id": "74573519",
   "metadata": {},
   "outputs": [],
   "source": [
    "get_url"
   ]
  },
  {
   "cell_type": "markdown",
   "id": "37180d7b",
   "metadata": {},
   "source": [
    "#### Execute the GET request"
   ]
  },
  {
   "cell_type": "code",
   "execution_count": null,
   "id": "9a4e5a9b",
   "metadata": {},
   "outputs": [],
   "source": [
    "response = requests.get(get_url)"
   ]
  },
  {
   "cell_type": "code",
   "execution_count": null,
   "id": "bb684786",
   "metadata": {},
   "outputs": [],
   "source": [
    "print(response.text)"
   ]
  },
  {
   "cell_type": "code",
   "execution_count": null,
   "id": "c00748e2",
   "metadata": {},
   "outputs": [],
   "source": [
    "import xml.etree.ElementTree as ET\n",
    "\n",
    "# Parse the XML string\n",
    "root = ET.fromstring(response.text)\n",
    "\n",
    "# Define the namespace (arXiv uses Atom namespace)\n",
    "namespaces = {\n",
    "    'atom': 'http://www.w3.org/2005/Atom',\n",
    "    'opensearch': 'http://a9.com/-/spec/opensearch/1.1/',\n",
    "    'arxiv': 'http://arxiv.org/schemas/atom'\n",
    "}\n",
    "\n",
    "# Extract total results\n",
    "total_results = root.find('opensearch:totalResults', namespaces).text\n",
    "print(f\"Total results: {total_results}\")\n",
    "\n",
    "# Iterate through entries\n",
    "entries = root.findall('atom:entry', namespaces)\n",
    "\n",
    "papers = []\n",
    "for entry in entries:\n",
    "    paper = {\n",
    "        'id': entry.find('atom:id', namespaces).text,\n",
    "        'title': entry.find('atom:title', namespaces).text.strip(),\n",
    "        'summary': entry.find('atom:summary', namespaces).text.strip(),\n",
    "        'published': entry.find('atom:published', namespaces).text,\n",
    "        'updated': entry.find('atom:updated', namespaces).text,\n",
    "        'authors': [author.find('atom:name', namespaces).text \n",
    "                   for author in entry.findall('atom:author', namespaces)],\n",
    "        'pdf_link': entry.find(\"atom:link[@title='pdf']\", namespaces).get('href')\n",
    "    }\n",
    "    papers.append(paper)\n"
   ]
  },
  {
   "cell_type": "code",
   "execution_count": null,
   "id": "fa05a0ad",
   "metadata": {},
   "outputs": [],
   "source": [
    "papers"
   ]
  },
  {
   "cell_type": "markdown",
   "id": "9ea10a47",
   "metadata": {},
   "source": [
    "#### Download PDF files of the papers"
   ]
  },
  {
   "cell_type": "code",
   "execution_count": null,
   "id": "03a3d441",
   "metadata": {},
   "outputs": [],
   "source": [
    "def download_pdf(url, filename):\n",
    "    \"\"\"Download PDF from URL and save to file\"\"\"\n",
    "    response = requests.get(url)\n",
    "    \n",
    "    if response.status_code == 200:\n",
    "        with open(filename, 'wb') as f:\n",
    "            f.write(response.content)\n",
    "        print(f\"PDF saved as {filename}\")\n",
    "    else:\n",
    "        print(f\"Failed to download. Status code: {response.status_code}\")"
   ]
  },
  {
   "cell_type": "code",
   "execution_count": null,
   "id": "6339a281",
   "metadata": {},
   "outputs": [],
   "source": [
    "for paper in papers:\n",
    "    path = f\"../../data/arxiv_papers/{paper['pdf_link'].split('/')[-1]}.pdf\"\n",
    "    download_pdf(paper['pdf_link'], path)"
   ]
  },
  {
   "cell_type": "code",
   "execution_count": null,
   "id": "90154272",
   "metadata": {},
   "outputs": [],
   "source": []
  }
 ],
 "metadata": {
  "kernelspec": {
   "display_name": ".venv",
   "language": "python",
   "name": "python3"
  },
  "language_info": {
   "codemirror_mode": {
    "name": "ipython",
    "version": 3
   },
   "file_extension": ".py",
   "mimetype": "text/x-python",
   "name": "python",
   "nbconvert_exporter": "python",
   "pygments_lexer": "ipython3",
   "version": "3.12.8"
  }
 },
 "nbformat": 4,
 "nbformat_minor": 5
}
