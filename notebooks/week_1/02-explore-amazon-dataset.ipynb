{
 "cells": [
  {
   "cell_type": "markdown",
   "metadata": {},
   "source": [
    "##### In order to run the bellow cells, download Amazon datasets for electronics from https://amazon-reviews-2023.github.io/main.html and place them in the ```/data``` folder."
   ]
  },
  {
   "cell_type": "code",
   "execution_count": null,
   "metadata": {},
   "outputs": [],
   "source": [
    "import json\n",
    "import pandas as pd"
   ]
  },
  {
   "cell_type": "markdown",
   "metadata": {},
   "source": [
    "## Filter Items that have been observed for the first time in year 2022 or later."
   ]
  },
  {
   "cell_type": "code",
   "execution_count": null,
   "metadata": {},
   "outputs": [],
   "source": [
    "def filter_data(data: dict) -> dict:\n",
    "    filter = False\n",
    "    if int(data['details']['Date First Available'][-4:]) < 2022:\n",
    "        filter = True\n",
    "\n",
    "    return filter"
   ]
  },
  {
   "cell_type": "code",
   "execution_count": null,
   "metadata": {},
   "outputs": [],
   "source": [
    "with open(\"../../data/meta_Electronics.jsonl\", 'r') as fp:\n",
    "    with open(\"../../data/meta_Electronics_2022_2023.jsonl\", 'a', encoding='utf-8') as fp_out:\n",
    "        with open(\"../../data/meta_Electronics_2022_2023_no_date.jsonl\", 'a', encoding='utf-8') as fp_out_no_date:\n",
    "            i = 0\n",
    "            for line in fp:\n",
    "                data = json.loads(line.strip())\n",
    "                try:\n",
    "                    filter = filter_data(data)\n",
    "                    if not filter:\n",
    "                        json.dump(data, fp_out)\n",
    "                        fp_out.write('\\n')\n",
    "                        fp_out.flush()\n",
    "                except:\n",
    "                    json.dump(data, fp_out_no_date)\n",
    "                    fp_out_no_date.write('\\n')\n",
    "                    fp_out_no_date.flush()\n",
    "                i += 1\n",
    "                if i % 10000 == 0:\n",
    "                    print(f\"Processed {i} lines\")"
   ]
  },
  {
   "cell_type": "markdown",
   "metadata": {},
   "source": [
    "## Split the items into two categories: \"has main category\", \"does not have main category\""
   ]
  },
  {
   "cell_type": "code",
   "execution_count": null,
   "metadata": {},
   "outputs": [],
   "source": [
    "def filter_category(data: dict) -> dict:\n",
    "    filter = False\n",
    "    if data['main_category'] == None:\n",
    "        filter = True\n",
    "\n",
    "    return filter"
   ]
  },
  {
   "cell_type": "code",
   "execution_count": null,
   "metadata": {},
   "outputs": [],
   "source": [
    "with open(\"../../data/meta_Electronics_2022_2023.jsonl\", 'r') as fp:\n",
    "    with open(\"../../data/meta_Electronics_2022_2023_with_category.jsonl\", 'a', encoding='utf-8') as fp_out:\n",
    "        with open(\"../../data/meta_Electronics_2022_2023_no_category.jsonl\", 'a', encoding='utf-8') as fp_out_no_category:\n",
    "            for line in fp:\n",
    "                data = json.loads(line.strip())\n",
    "                if not filter_category(data):\n",
    "                    json.dump(data, fp_out)\n",
    "                    fp_out.write('\\n')\n",
    "                    fp_out.flush()\n",
    "                else:\n",
    "                    json.dump(data, fp_out_no_category)\n",
    "                    fp_out_no_category.write('\\n')\n",
    "                    fp_out_no_category.flush()"
   ]
  },
  {
   "cell_type": "markdown",
   "metadata": {},
   "source": [
    "## Explore dsitribution by categories"
   ]
  },
  {
   "cell_type": "code",
   "execution_count": null,
   "metadata": {},
   "outputs": [],
   "source": [
    "df = pd.read_json(\"../../data/meta_Electronics_2022_2023_with_category.jsonl\", lines=True)"
   ]
  },
  {
   "cell_type": "code",
   "execution_count": null,
   "metadata": {},
   "outputs": [],
   "source": [
    "df['main_category'].value_counts().plot(kind='bar')"
   ]
  },
  {
   "cell_type": "markdown",
   "metadata": {},
   "source": [
    "### Filter out items that have at least 100 ratings"
   ]
  },
  {
   "cell_type": "code",
   "execution_count": null,
   "metadata": {},
   "outputs": [],
   "source": [
    "df_ratings_100 = df[df['rating_number'] > 100]"
   ]
  },
  {
   "cell_type": "markdown",
   "metadata": {},
   "source": [
    "## Explore distribution of ratings"
   ]
  },
  {
   "cell_type": "code",
   "execution_count": null,
   "metadata": {},
   "outputs": [],
   "source": [
    "df_ratings_100['average_rating'].plot(kind='hist', bins=50, range=(0, 5))"
   ]
  },
  {
   "cell_type": "markdown",
   "metadata": {},
   "source": [
    "#### Sample 1000 items"
   ]
  },
  {
   "cell_type": "code",
   "execution_count": null,
   "metadata": {},
   "outputs": [],
   "source": [
    "df_sample_1000 = df_ratings_100.sample(n=1000, random_state=20)"
   ]
  },
  {
   "cell_type": "code",
   "execution_count": null,
   "metadata": {},
   "outputs": [],
   "source": [
    "df_sample_1000['average_rating'].plot(kind='hist', bins=50, range=(0, 5))"
   ]
  },
  {
   "cell_type": "code",
   "execution_count": null,
   "metadata": {},
   "outputs": [],
   "source": [
    "df_sample_1000['price'].plot(kind='hist', bins=100, range=(0, 500))"
   ]
  },
  {
   "cell_type": "code",
   "execution_count": null,
   "metadata": {},
   "outputs": [],
   "source": [
    "df_ratings_100.to_json(\"../../data/meta_Electronics_2022_2023_with_category_ratings_100.jsonl\", orient='records', lines=True)"
   ]
  },
  {
   "cell_type": "code",
   "execution_count": null,
   "metadata": {},
   "outputs": [],
   "source": [
    "df_sample_1000.to_json(\"../../data/meta_Electronics_2022_2023_with_category_ratings_100_sample_1000.jsonl\", orient='records', lines=True)"
   ]
  },
  {
   "cell_type": "markdown",
   "metadata": {},
   "source": [
    "## Extract ratings that match sampled data."
   ]
  },
  {
   "cell_type": "code",
   "execution_count": null,
   "metadata": {},
   "outputs": [],
   "source": [
    "df_ratings_100 = pd.read_json(\"../../data/meta_Electronics_2022_2023_with_category_ratings_100.jsonl\", lines=True)\n",
    "df_sample_1000 = pd.read_json(\"../../data/meta_Electronics_2022_2023_with_category_ratings_100_sample_1000.jsonl\", lines=True)"
   ]
  },
  {
   "cell_type": "code",
   "execution_count": null,
   "metadata": {},
   "outputs": [],
   "source": [
    "with open(\"../../data/Electronics.jsonl\", 'r') as fp:\n",
    "    with open(\"../../data/Electornics_2022_2023_with_category_ratings_100.jsonl\", 'a') as fp_out:\n",
    "        id_list = set(df_ratings_100['parent_asin'].values)\n",
    "        i = 0\n",
    "        for line in fp:\n",
    "            data = json.loads(line.strip())\n",
    "            if data['parent_asin'] in id_list:\n",
    "                json.dump(data, fp_out)\n",
    "                fp_out.write('\\n')\n",
    "                fp_out.flush()\n",
    "            i += 1\n",
    "            if i % 100000 == 0:\n",
    "                print(f\"Processed {i} lines\")"
   ]
  },
  {
   "cell_type": "code",
   "execution_count": null,
   "metadata": {},
   "outputs": [],
   "source": [
    "with open(\"../../data/Electornics_2022_2023_with_category_ratings_100.jsonl\", 'r') as fp:\n",
    "    with open(\"../../data/Electornics_2022_2023_with_category_ratings_100_sample_1000.jsonl\", 'a') as fp_out:\n",
    "        id_list = set(df_sample_1000['parent_asin'].values)\n",
    "        i = 0\n",
    "        for line in fp:\n",
    "            data = json.loads(line.strip())\n",
    "            if data['parent_asin'] in id_list:\n",
    "                json.dump(data, fp_out)\n",
    "                fp_out.write('\\n')\n",
    "                fp_out.flush()\n",
    "            i += 1\n",
    "            if i % 100000 == 0:\n",
    "                print(f\"Processed {i} lines\")"
   ]
  },
  {
   "cell_type": "code",
   "execution_count": null,
   "metadata": {},
   "outputs": [],
   "source": []
  }
 ],
 "metadata": {
  "kernelspec": {
   "display_name": ".venv",
   "language": "python",
   "name": "python3"
  },
  "language_info": {
   "codemirror_mode": {
    "name": "ipython",
    "version": 3
   },
   "file_extension": ".py",
   "mimetype": "text/x-python",
   "name": "python",
   "nbconvert_exporter": "python",
   "pygments_lexer": "ipython3",
   "version": "3.12.8"
  }
 },
 "nbformat": 4,
 "nbformat_minor": 2
}
