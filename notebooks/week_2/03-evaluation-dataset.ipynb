{
 "cells": [
  {
   "cell_type": "code",
   "execution_count": null,
   "id": "709b6841",
   "metadata": {},
   "outputs": [],
   "source": [
    "import openai\n",
    "import os\n",
    "\n",
    "from qdrant_client import QdrantClient\n",
    "from qdrant_client.models import Filter, FieldCondition, MatchValue\n",
    "\n",
    "from langsmith import Client"
   ]
  },
  {
   "cell_type": "code",
   "execution_count": null,
   "id": "3453fbf7",
   "metadata": {},
   "outputs": [],
   "source": [
    "qdrant_client = QdrantClient(url=\"http://localhost:6333\")"
   ]
  },
  {
   "cell_type": "markdown",
   "id": "99cd9145",
   "metadata": {},
   "source": [
    "### Download all data from Qdrant"
   ]
  },
  {
   "cell_type": "code",
   "execution_count": null,
   "id": "d9850825",
   "metadata": {},
   "outputs": [],
   "source": [
    "all_points = qdrant_client.scroll(\n",
    "    collection_name=\"Amazon-items-collection-00\",\n",
    "    limit=100,\n",
    "    offset=None,\n",
    "    with_payload=True,\n",
    "    with_vectors=False\n",
    ")"
   ]
  },
  {
   "cell_type": "code",
   "execution_count": null,
   "id": "ed07c262",
   "metadata": {},
   "outputs": [],
   "source": [
    "all_points"
   ]
  },
  {
   "cell_type": "code",
   "execution_count": null,
   "id": "3a66ed57",
   "metadata": {},
   "outputs": [],
   "source": [
    "all_points[0][0].payload"
   ]
  },
  {
   "cell_type": "code",
   "execution_count": null,
   "id": "327bbe60",
   "metadata": {},
   "outputs": [],
   "source": [
    "all_context = [{\"id\": data.payload[\"parent_asin\"], \"text\": data.payload[\"description\"]} for data in all_points[0]]"
   ]
  },
  {
   "cell_type": "code",
   "execution_count": null,
   "id": "02b88e7e",
   "metadata": {},
   "outputs": [],
   "source": [
    "all_context"
   ]
  },
  {
   "cell_type": "markdown",
   "id": "97f73b5b",
   "metadata": {},
   "source": [
    "### Render a prompt to generate synthetic Eval reference dataset"
   ]
  },
  {
   "cell_type": "code",
   "execution_count": null,
   "id": "2f4f144e",
   "metadata": {},
   "outputs": [],
   "source": [
    "import json\n",
    "\n",
    "output_schema = {\n",
    "    \"type\": \"array\",\n",
    "    \"items\": {\n",
    "        \"type\": \"object\",\n",
    "        \"properties\": {\n",
    "            \"question\": {\n",
    "                \"type\": \"string\",\n",
    "                \"description\": \"Suggested question.\",\n",
    "            },\n",
    "            \"chunk_ids\": {\n",
    "                \"type\": \"array\",\n",
    "                \"items\": {\n",
    "                    \"type\": \"string\",\n",
    "                    \"description\": \"ID of the chunk that could be used to answer the question.\",\n",
    "                },\n",
    "            },\n",
    "            \"answer_example\": {\n",
    "                \"type\": \"string\",\n",
    "                \"description\": \"Suggested answer grounded in the context.\",\n",
    "            },\n",
    "            \"reasoning\": {\n",
    "                \"type\": \"string\",\n",
    "                \"description\": \"Reasoning why the question could be answered with the chunks.\",\n",
    "            },\n",
    "        },\n",
    "    },\n",
    "}\n",
    "\n",
    "\n",
    "SYSTEM_PROMPT = f\"\"\"\n",
    "I am building a RAG application. I have a collection of 50 chunks of text.\n",
    "The RAG application will act as a shopping assistant that can answer questions about the stock of the products we have available.\n",
    "I will provide all of the available products to you with IDs of each chunk.\n",
    "I want you to come up with 30 questions to which the answers could be grounded in the chunk context.\n",
    "As an output I need you to provide me the list of questions and the IDs of the chunks that could be used to answer them.\n",
    "Also, provide an example answer to the question given the context of the chunks.\n",
    "Also, provide the reason why you chose the chunks to answer the questions.\n",
    "Construct 10 that could use multipple chunks in the answer.\n",
    "Construct 15 questions that could use single chunk in the answer.\n",
    "Also, include 5 questions that can't be answered with the available chunks.\n",
    "\n",
    "<OUTPUT JSON SCHEMA>\n",
    "{json.dumps(output_schema, indent=2)}\n",
    "</OUTPUT JSON SCHEMA>\n",
    "\n",
    "I need to be able to parse the json output.\n",
    "\"\"\"\n",
    "\n",
    "USER_PROMPT = f\"\"\"\n",
    "Here is the list of chunks, each list element is a dictionary with id and text:\n",
    "{all_context}\n",
    "\"\"\""
   ]
  },
  {
   "cell_type": "code",
   "execution_count": null,
   "id": "3970317e",
   "metadata": {},
   "outputs": [],
   "source": [
    "print(USER_PROMPT)"
   ]
  },
  {
   "cell_type": "code",
   "execution_count": null,
   "id": "2bd0a69d",
   "metadata": {},
   "outputs": [],
   "source": [
    "print(SYSTEM_PROMPT)"
   ]
  },
  {
   "cell_type": "code",
   "execution_count": null,
   "id": "3934944d",
   "metadata": {},
   "outputs": [],
   "source": [
    "response = openai.chat.completions.create(\n",
    "    model=\"gpt-4.1\",\n",
    "    messages=[\n",
    "        {\"role\": \"system\", \"content\": SYSTEM_PROMPT},\n",
    "        {\"role\": \"user\", \"content\": USER_PROMPT}\n",
    "    ]\n",
    ")\n",
    "\n",
    "print(response.choices[0].message.content)"
   ]
  },
  {
   "cell_type": "code",
   "execution_count": null,
   "id": "acdcdb2e",
   "metadata": {},
   "outputs": [],
   "source": [
    "import json\n",
    "\n",
    "json_output = response.choices[0].message.content\n",
    "json_output = json_output.replace(\"```json\", \"\")\n",
    "json_output = json_output.replace(\"```\", \"\")\n",
    "json_output = json_output.replace(\"// Single-chunk questions (15)\", \"\")\n",
    "json_output = json.loads(json_output)"
   ]
  },
  {
   "cell_type": "code",
   "execution_count": null,
   "id": "21d52474",
   "metadata": {},
   "outputs": [],
   "source": [
    "len(json_output)"
   ]
  },
  {
   "cell_type": "code",
   "execution_count": null,
   "id": "8ffa5260",
   "metadata": {},
   "outputs": [],
   "source": [
    "json_output"
   ]
  },
  {
   "cell_type": "code",
   "execution_count": null,
   "id": "4695fe2d",
   "metadata": {},
   "outputs": [],
   "source": [
    "points = qdrant_client.scroll(\n",
    "    collection_name=\"Amazon-items-collection-00\",\n",
    "    scroll_filter=Filter(\n",
    "        must=[\n",
    "            FieldCondition(\n",
    "                key=\"parent_asin\",\n",
    "                match=MatchValue(value=\"B0BYYLJRHT\")\n",
    "            )\n",
    "        ]\n",
    "    ),\n",
    "    limit=100,\n",
    "    with_payload=True,\n",
    "    with_vectors=False\n",
    ")[0]"
   ]
  },
  {
   "cell_type": "code",
   "execution_count": null,
   "id": "5c113901",
   "metadata": {},
   "outputs": [],
   "source": [
    "points[0].payload"
   ]
  },
  {
   "cell_type": "code",
   "execution_count": null,
   "id": "fa95e46d",
   "metadata": {},
   "outputs": [],
   "source": [
    "def get_description(parent_asin: str) -> str:\n",
    "\n",
    "    points = qdrant_client.scroll(\n",
    "        collection_name=\"Amazon-items-collection-00\",\n",
    "        scroll_filter=Filter(\n",
    "            must=[\n",
    "                FieldCondition(\n",
    "                    key=\"parent_asin\",\n",
    "                    match=MatchValue(value=parent_asin)\n",
    "                )\n",
    "            ]\n",
    "        ),\n",
    "        limit=100,\n",
    "        with_payload=True,\n",
    "        with_vectors=False\n",
    "    )[0]\n",
    "\n",
    "    return points[0].payload[\"description\"]"
   ]
  },
  {
   "cell_type": "markdown",
   "id": "072149dc",
   "metadata": {},
   "source": [
    "### Create Eval dataset in Langsmith"
   ]
  },
  {
   "cell_type": "code",
   "execution_count": null,
   "id": "78b32237",
   "metadata": {},
   "outputs": [],
   "source": [
    "removed_item = json_output.pop(28)"
   ]
  },
  {
   "cell_type": "code",
   "execution_count": null,
   "id": "e09b6eec",
   "metadata": {},
   "outputs": [],
   "source": [
    "removed_item"
   ]
  },
  {
   "cell_type": "code",
   "execution_count": null,
   "id": "3a7673d5",
   "metadata": {},
   "outputs": [],
   "source": [
    "client = Client(api_key=os.environ[\"LANGSMITH_API_KEY\"])"
   ]
  },
  {
   "cell_type": "code",
   "execution_count": null,
   "id": "6a5d9914",
   "metadata": {},
   "outputs": [],
   "source": [
    "dataset_name = \"rag-evaluation-dataset\"\n",
    "dataset = client.create_dataset(\n",
    "    dataset_name=dataset_name,\n",
    "    description=\"Dataset for evaluating RAG pipeline\"\n",
    ")"
   ]
  },
  {
   "cell_type": "code",
   "execution_count": null,
   "id": "81032cc3",
   "metadata": {},
   "outputs": [],
   "source": [
    "for item in json_output:\n",
    "    print(item[\"chunk_ids\"])\n",
    "    client.create_example(\n",
    "        dataset_id=dataset.id,\n",
    "        inputs={\"question\": item[\"question\"]},\n",
    "        outputs={\n",
    "            \"ground_truth\": item[\"answer_example\"],\n",
    "            \"reference_context_ids\": item[\"chunk_ids\"],\n",
    "            \"reference_descriptions\": [get_description(id) for id in item[\"chunk_ids\"]]\n",
    "        }\n",
    "    )"
   ]
  },
  {
   "cell_type": "code",
   "execution_count": null,
   "id": "e5931342",
   "metadata": {},
   "outputs": [],
   "source": []
  }
 ],
 "metadata": {
  "kernelspec": {
   "display_name": ".venv",
   "language": "python",
   "name": "python3"
  },
  "language_info": {
   "codemirror_mode": {
    "name": "ipython",
    "version": 3
   },
   "file_extension": ".py",
   "mimetype": "text/x-python",
   "name": "python",
   "nbconvert_exporter": "python",
   "pygments_lexer": "ipython3",
   "version": "3.12.8"
  }
 },
 "nbformat": 4,
 "nbformat_minor": 5
}
