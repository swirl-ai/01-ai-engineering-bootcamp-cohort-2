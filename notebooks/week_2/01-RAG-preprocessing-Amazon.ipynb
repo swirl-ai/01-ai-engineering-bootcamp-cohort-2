{
 "cells": [
  {
   "cell_type": "code",
   "execution_count": null,
   "id": "f1e0b8f7",
   "metadata": {},
   "outputs": [],
   "source": [
    "from qdrant_client import QdrantClient\n",
    "from qdrant_client.models import Distance, VectorParams, PointStruct\n",
    "\n",
    "import pandas as pd\n",
    "import openai"
   ]
  },
  {
   "cell_type": "markdown",
   "id": "9f899490",
   "metadata": {},
   "source": [
    "### Read the sampled dataset with Amazon inventory data"
   ]
  },
  {
   "cell_type": "code",
   "execution_count": null,
   "id": "e07ba60d",
   "metadata": {},
   "outputs": [],
   "source": [
    "df_items = pd.read_json(\"../../data/meta_Electronics_2022_2023_with_category_ratings_100_sample_1000.jsonl\", lines=True)"
   ]
  },
  {
   "cell_type": "code",
   "execution_count": null,
   "id": "204f0a29",
   "metadata": {},
   "outputs": [],
   "source": [
    "df_items.head()"
   ]
  },
  {
   "cell_type": "code",
   "execution_count": null,
   "id": "014364d8",
   "metadata": {},
   "outputs": [],
   "source": [
    "list(df_items[\"features\"].items())[0]"
   ]
  },
  {
   "cell_type": "code",
   "execution_count": null,
   "id": "0d3b156b",
   "metadata": {},
   "outputs": [],
   "source": [
    "list(df_items[\"images\"].items())[0]"
   ]
  },
  {
   "cell_type": "markdown",
   "id": "f4910803",
   "metadata": {},
   "source": [
    "### Preprocess title and features"
   ]
  },
  {
   "cell_type": "code",
   "execution_count": null,
   "id": "ef87e57b",
   "metadata": {},
   "outputs": [],
   "source": [
    "def preprocess_description(row):\n",
    "    return f\"{row['title']} {' '.join(row['features'])}\""
   ]
  },
  {
   "cell_type": "code",
   "execution_count": null,
   "id": "cd73f082",
   "metadata": {},
   "outputs": [],
   "source": [
    "def extract_first_large_image(row):\n",
    "    return row[\"images\"][0].get(\"large\", \"\")"
   ]
  },
  {
   "cell_type": "code",
   "execution_count": null,
   "id": "b7f304b9",
   "metadata": {},
   "outputs": [],
   "source": [
    "df_items[\"description\"] = df_items.apply(preprocess_description, axis=1)\n",
    "df_items[\"image\"] = df_items.apply(extract_first_large_image, axis=1)"
   ]
  },
  {
   "cell_type": "code",
   "execution_count": null,
   "id": "3bf6a0ce",
   "metadata": {},
   "outputs": [],
   "source": [
    "df_items.head()"
   ]
  },
  {
   "cell_type": "code",
   "execution_count": null,
   "id": "372f5499",
   "metadata": {},
   "outputs": [],
   "source": [
    "list(df_items[\"description\"].items())[0]"
   ]
  },
  {
   "cell_type": "code",
   "execution_count": null,
   "id": "cac70074",
   "metadata": {},
   "outputs": [],
   "source": [
    "list(df_items[\"image\"].items())[0]"
   ]
  },
  {
   "cell_type": "markdown",
   "id": "d181f21b",
   "metadata": {},
   "source": [
    "### Sample 50 items from the dataset"
   ]
  },
  {
   "cell_type": "code",
   "execution_count": null,
   "id": "252667de",
   "metadata": {},
   "outputs": [],
   "source": [
    "df_sample = df_items.sample(50, random_state=42)"
   ]
  },
  {
   "cell_type": "code",
   "execution_count": null,
   "id": "3326b5f7",
   "metadata": {},
   "outputs": [],
   "source": [
    "len(df_sample)"
   ]
  },
  {
   "cell_type": "code",
   "execution_count": null,
   "id": "17e3d2ee",
   "metadata": {},
   "outputs": [],
   "source": [
    "data_to_embed = df_sample[[\"description\", \"image\", \"rating_number\", \"price\", \"average_rating\", \"parent_asin\"]].to_dict(orient=\"records\")"
   ]
  },
  {
   "cell_type": "code",
   "execution_count": null,
   "id": "ddff093a",
   "metadata": {},
   "outputs": [],
   "source": [
    "data_to_embed"
   ]
  },
  {
   "cell_type": "markdown",
   "id": "46afa8f8",
   "metadata": {},
   "source": [
    "### Define the embeddings function"
   ]
  },
  {
   "cell_type": "code",
   "execution_count": null,
   "id": "5344e879",
   "metadata": {},
   "outputs": [],
   "source": [
    "response = openai.embeddings.create(\n",
    "    input=\"Random text\",\n",
    "    model=\"text-embedding-3-small\",\n",
    ")"
   ]
  },
  {
   "cell_type": "code",
   "execution_count": null,
   "id": "f05ba129",
   "metadata": {},
   "outputs": [],
   "source": [
    "len(response.data[0].embedding)"
   ]
  },
  {
   "cell_type": "code",
   "execution_count": null,
   "id": "b2787f63",
   "metadata": {},
   "outputs": [],
   "source": [
    "def get_embedding(text, model=\"text-embedding-3-small\"):\n",
    "    response = openai.embeddings.create(\n",
    "        input=text,\n",
    "        model=model,\n",
    "    )\n",
    "    return response.data[0].embedding"
   ]
  },
  {
   "cell_type": "markdown",
   "id": "a82681f4",
   "metadata": {},
   "source": [
    "### Create Qdrant collection"
   ]
  },
  {
   "cell_type": "code",
   "execution_count": null,
   "id": "13920c5f",
   "metadata": {},
   "outputs": [],
   "source": [
    "qdrant_client = QdrantClient(url=\"http://localhost:6333\")"
   ]
  },
  {
   "cell_type": "code",
   "execution_count": null,
   "id": "56443cf7",
   "metadata": {},
   "outputs": [],
   "source": [
    "qdrant_client.create_collection(\n",
    "    collection_name=\"Amazon-items-collection-00\",\n",
    "    vectors_config=VectorParams(size=1536, distance=Distance.COSINE),\n",
    ")"
   ]
  },
  {
   "cell_type": "markdown",
   "id": "62c98ae9",
   "metadata": {},
   "source": [
    "### Embed data"
   ]
  },
  {
   "cell_type": "markdown",
   "id": "42ae8010",
   "metadata": {},
   "source": [
    "##### Test"
   ]
  },
  {
   "cell_type": "code",
   "execution_count": null,
   "id": "90cf0e69",
   "metadata": {},
   "outputs": [],
   "source": [
    "pointstruct = PointStruct(\n",
    "    id=0,\n",
    "    vector=get_embedding(\"Test text\"),\n",
    "    payload={\n",
    "        \"text\": \"Test text\",\n",
    "        \"model\": \"text-embedding-3-small\",\n",
    "    },\n",
    ")"
   ]
  },
  {
   "cell_type": "code",
   "execution_count": null,
   "id": "109b4d72",
   "metadata": {},
   "outputs": [],
   "source": [
    "pointstruct"
   ]
  },
  {
   "cell_type": "markdown",
   "id": "d5180a90",
   "metadata": {},
   "source": [
    "##### Amazon data"
   ]
  },
  {
   "cell_type": "code",
   "execution_count": null,
   "id": "6b87e2a7",
   "metadata": {},
   "outputs": [],
   "source": [
    "pointstructs = []\n",
    "for i, data in enumerate(data_to_embed):\n",
    "    embediing = get_embedding(data[\"description\"])\n",
    "    pointstructs.append(\n",
    "        PointStruct(\n",
    "            id=i,\n",
    "            vector=embediing,\n",
    "            payload=data,\n",
    "        )\n",
    "    )"
   ]
  },
  {
   "cell_type": "code",
   "execution_count": null,
   "id": "d7eb92e9",
   "metadata": {},
   "outputs": [],
   "source": [
    "pointstructs"
   ]
  },
  {
   "cell_type": "markdown",
   "id": "e2ad6efc",
   "metadata": {},
   "source": [
    "### Write embedded data to Qdrant"
   ]
  },
  {
   "cell_type": "code",
   "execution_count": null,
   "id": "340eb068",
   "metadata": {},
   "outputs": [],
   "source": [
    "qdrant_client.upsert(\n",
    "    collection_name=\"Amazon-items-collection-00\",\n",
    "    wait=True,\n",
    "    points=pointstructs,\n",
    ")"
   ]
  },
  {
   "cell_type": "markdown",
   "id": "313dc103",
   "metadata": {},
   "source": [
    "### Define a function for data retrieval"
   ]
  },
  {
   "cell_type": "code",
   "execution_count": null,
   "id": "925ff76b",
   "metadata": {},
   "outputs": [],
   "source": [
    "def retrieve_data(query, k=5):\n",
    "    query_embedding = get_embedding(query)\n",
    "    results = qdrant_client.query_points(\n",
    "        collection_name=\"Amazon-items-collection-00\",\n",
    "        query=query_embedding,\n",
    "        limit=k,\n",
    "    )\n",
    "    return results\n"
   ]
  },
  {
   "cell_type": "markdown",
   "id": "9ccbe002",
   "metadata": {},
   "source": [
    "### Test retrieval"
   ]
  },
  {
   "cell_type": "code",
   "execution_count": null,
   "id": "8d0fd89c",
   "metadata": {},
   "outputs": [],
   "source": [
    "retrieve_data(\"What kind of tablets can I get?\", k=10).points"
   ]
  },
  {
   "cell_type": "code",
   "execution_count": null,
   "id": "a36bf6db",
   "metadata": {},
   "outputs": [],
   "source": []
  }
 ],
 "metadata": {
  "kernelspec": {
   "display_name": ".venv",
   "language": "python",
   "name": "python3"
  },
  "language_info": {
   "codemirror_mode": {
    "name": "ipython",
    "version": 3
   },
   "file_extension": ".py",
   "mimetype": "text/x-python",
   "name": "python",
   "nbconvert_exporter": "python",
   "pygments_lexer": "ipython3",
   "version": "3.12.8"
  }
 },
 "nbformat": 4,
 "nbformat_minor": 5
}
