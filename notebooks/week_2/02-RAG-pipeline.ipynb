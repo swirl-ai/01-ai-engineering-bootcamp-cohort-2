{
 "cells": [
  {
   "cell_type": "code",
   "execution_count": null,
   "id": "9d3ab432",
   "metadata": {},
   "outputs": [],
   "source": [
    "import openai\n",
    "from qdrant_client import QdrantClient"
   ]
  },
  {
   "cell_type": "markdown",
   "id": "63c1d053",
   "metadata": {},
   "source": [
    "### Embedding function"
   ]
  },
  {
   "cell_type": "code",
   "execution_count": null,
   "id": "9cfce16a",
   "metadata": {},
   "outputs": [],
   "source": [
    "def get_embedding(text, model=\"text-embedding-3-small\"):\n",
    "    response = openai.embeddings.create(\n",
    "        input=text,\n",
    "        model=model,\n",
    "    )\n",
    "    return response.data[0].embedding"
   ]
  },
  {
   "cell_type": "markdown",
   "id": "3024f1ea",
   "metadata": {},
   "source": [
    "### Retrieval function"
   ]
  },
  {
   "cell_type": "code",
   "execution_count": null,
   "id": "1e32fd99",
   "metadata": {},
   "outputs": [],
   "source": [
    "qdrant_client = QdrantClient(url=\"http://localhost:6333\")"
   ]
  },
  {
   "cell_type": "code",
   "execution_count": null,
   "id": "711c8fbf",
   "metadata": {},
   "outputs": [],
   "source": [
    "def retrieve_data(query, qdrant_client, k=5):\n",
    "\n",
    "    query_embedding = get_embedding(query)\n",
    "\n",
    "    results = qdrant_client.query_points(\n",
    "        collection_name=\"Amazon-items-collection-00\",\n",
    "        query=query_embedding,\n",
    "        limit=k,\n",
    "    )\n",
    "\n",
    "    retrieved_context_ids = []\n",
    "    retrieved_context = []\n",
    "    similarity_scores = []\n",
    "\n",
    "    for result in results.points:\n",
    "        retrieved_context_ids.append(result.payload[\"parent_asin\"])\n",
    "        retrieved_context.append(result.payload[\"description\"])\n",
    "        similarity_scores.append(result.score)\n",
    "\n",
    "    return {\n",
    "        \"retrieved_context_ids\": retrieved_context_ids,\n",
    "        \"retrieved_context\": retrieved_context,\n",
    "        \"similarity_scores\": similarity_scores,\n",
    "    }"
   ]
  },
  {
   "cell_type": "code",
   "execution_count": null,
   "id": "485c894d",
   "metadata": {},
   "outputs": [],
   "source": [
    "retrieved_context = retrieve_data(\"What kind of earphones can I get?\", qdrant_client, k=10)"
   ]
  },
  {
   "cell_type": "code",
   "execution_count": null,
   "id": "7a96f576",
   "metadata": {},
   "outputs": [],
   "source": [
    "retrieved_context"
   ]
  },
  {
   "cell_type": "markdown",
   "id": "e89baca5",
   "metadata": {},
   "source": [
    "### Format retrieved context function"
   ]
  },
  {
   "cell_type": "code",
   "execution_count": null,
   "id": "aad8b239",
   "metadata": {},
   "outputs": [],
   "source": [
    "def process_context(context):\n",
    "\n",
    "    formatted_context = \"\"\n",
    "\n",
    "    for id, chunk in zip(context[\"retrieved_context_ids\"], context[\"retrieved_context\"]):\n",
    "        formatted_context += f\"- {id}: {chunk}\\n\"\n",
    "\n",
    "    return formatted_context"
   ]
  },
  {
   "cell_type": "code",
   "execution_count": null,
   "id": "5c0c2327",
   "metadata": {},
   "outputs": [],
   "source": [
    "preprocessed_context = process_context(retrieved_context)"
   ]
  },
  {
   "cell_type": "code",
   "execution_count": null,
   "id": "1cbaa285",
   "metadata": {},
   "outputs": [],
   "source": [
    "print(process_context(retrieved_context))"
   ]
  },
  {
   "cell_type": "markdown",
   "id": "c7c07b99",
   "metadata": {},
   "source": [
    "### Create Prompt function"
   ]
  },
  {
   "cell_type": "code",
   "execution_count": null,
   "id": "5145414e",
   "metadata": {},
   "outputs": [],
   "source": [
    "def build_prompt(preprocessed_context, question):\n",
    "\n",
    "    prompt = f\"\"\"\n",
    "You are a shopping assistant that can answer questions about the products in stock.\n",
    "\n",
    "You will be given a question and a list of context.\n",
    "\n",
    "Instructtions:\n",
    "- You need to answer the question based on the provided context only.\n",
    "- Never use word context and refer to it as the available products.\n",
    "\n",
    "Context:\n",
    "{preprocessed_context}\n",
    "\n",
    "Question:\n",
    "{question}\n",
    "\"\"\"\n",
    "\n",
    "    return prompt"
   ]
  },
  {
   "cell_type": "code",
   "execution_count": null,
   "id": "9158cff7",
   "metadata": {},
   "outputs": [],
   "source": [
    "prompt = build_prompt(preprocessed_context, \"What kind of earphones can I get?\")"
   ]
  },
  {
   "cell_type": "code",
   "execution_count": null,
   "id": "f694f167",
   "metadata": {},
   "outputs": [],
   "source": [
    "print(build_prompt(preprocessed_context, \"What kind of earphones can I get?\"))"
   ]
  },
  {
   "cell_type": "markdown",
   "id": "f7177960",
   "metadata": {},
   "source": [
    "### Generate answer function"
   ]
  },
  {
   "cell_type": "code",
   "execution_count": null,
   "id": "7c82c85f",
   "metadata": {},
   "outputs": [],
   "source": [
    "def generate_answer(prompt):\n",
    "\n",
    "    response = openai.chat.completions.create(\n",
    "        model=\"gpt-4.1-mini\",\n",
    "        messages=[{\"role\": \"system\", \"content\": prompt}],\n",
    "        temperature=0.5,\n",
    "    )\n",
    "\n",
    "    return response.choices[0].message.content"
   ]
  },
  {
   "cell_type": "code",
   "execution_count": null,
   "id": "22bf9776",
   "metadata": {},
   "outputs": [],
   "source": [
    "print(generate_answer(prompt))"
   ]
  },
  {
   "cell_type": "markdown",
   "id": "3a724991",
   "metadata": {},
   "source": [
    "### Cimbined RAG Pipeline"
   ]
  },
  {
   "cell_type": "code",
   "execution_count": null,
   "id": "b561ea63",
   "metadata": {},
   "outputs": [],
   "source": [
    "def rag_pipeline(question, top_k=5):\n",
    "\n",
    "    qdrant_client = QdrantClient(url=\"http://localhost:6333\")\n",
    "\n",
    "    retrieved_context = retrieve_data(question, qdrant_client, top_k)\n",
    "    preprocessed_context = process_context(retrieved_context)\n",
    "    prompt = build_prompt(preprocessed_context, question)\n",
    "    answer = generate_answer(prompt)\n",
    "\n",
    "    return answer\n"
   ]
  },
  {
   "cell_type": "code",
   "execution_count": null,
   "id": "591d9a5f",
   "metadata": {},
   "outputs": [],
   "source": [
    "print(rag_pipeline(\"Can I get some cool stuff for kids?\"))"
   ]
  },
  {
   "cell_type": "code",
   "execution_count": null,
   "id": "9884ef3e",
   "metadata": {},
   "outputs": [],
   "source": []
  }
 ],
 "metadata": {
  "kernelspec": {
   "display_name": ".venv",
   "language": "python",
   "name": "python3"
  },
  "language_info": {
   "codemirror_mode": {
    "name": "ipython",
    "version": 3
   },
   "file_extension": ".py",
   "mimetype": "text/x-python",
   "name": "python",
   "nbconvert_exporter": "python",
   "pygments_lexer": "ipython3",
   "version": "3.12.8"
  }
 },
 "nbformat": 4,
 "nbformat_minor": 5
}
