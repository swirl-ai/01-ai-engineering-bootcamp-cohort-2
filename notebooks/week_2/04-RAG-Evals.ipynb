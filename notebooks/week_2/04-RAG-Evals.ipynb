{
 "cells": [
  {
   "cell_type": "code",
   "execution_count": null,
   "id": "729cea19",
   "metadata": {},
   "outputs": [],
   "source": [
    "import os\n",
    "import openai\n",
    "\n",
    "from langsmith import Client\n",
    "from qdrant_client import QdrantClient\n",
    "\n",
    "from langchain_openai import ChatOpenAI\n",
    "from langchain_openai import OpenAIEmbeddings\n",
    "\n",
    "from ragas.llms import LangchainLLMWrapper\n",
    "from ragas.embeddings import LangchainEmbeddingsWrapper"
   ]
  },
  {
   "cell_type": "markdown",
   "id": "155fb41f",
   "metadata": {},
   "source": [
    "### Doenload an example reference data point from LangSmith"
   ]
  },
  {
   "cell_type": "code",
   "execution_count": null,
   "id": "e68fbd80",
   "metadata": {},
   "outputs": [],
   "source": [
    "client = Client()"
   ]
  },
  {
   "cell_type": "code",
   "execution_count": null,
   "id": "1d9c5c12",
   "metadata": {},
   "outputs": [],
   "source": [
    "dataset = client.read_dataset(\n",
    "    dataset_name=\"rag-evaluation-dataset\"\n",
    ")"
   ]
  },
  {
   "cell_type": "code",
   "execution_count": null,
   "id": "40959f16",
   "metadata": {},
   "outputs": [],
   "source": [
    "dataset"
   ]
  },
  {
   "cell_type": "code",
   "execution_count": null,
   "id": "63a42d04",
   "metadata": {},
   "outputs": [],
   "source": [
    "list(client.list_examples(dataset_id=dataset.id, limit=10))[0].inputs"
   ]
  },
  {
   "cell_type": "code",
   "execution_count": null,
   "id": "6a309f2c",
   "metadata": {},
   "outputs": [],
   "source": [
    "list(client.list_examples(dataset_id=dataset.id, limit=10))[0].outputs"
   ]
  },
  {
   "cell_type": "code",
   "execution_count": null,
   "id": "e3f2209d",
   "metadata": {},
   "outputs": [],
   "source": [
    "list(client.list_examples(dataset_id=dataset.id, limit=10))[3].inputs"
   ]
  },
  {
   "cell_type": "code",
   "execution_count": null,
   "id": "40261c2a",
   "metadata": {},
   "outputs": [],
   "source": [
    "list(client.list_examples(dataset_id=dataset.id, limit=10))[3].outputs"
   ]
  },
  {
   "cell_type": "code",
   "execution_count": null,
   "id": "284b6203",
   "metadata": {},
   "outputs": [],
   "source": [
    "reference_input = list(client.list_examples(dataset_id=dataset.id, limit=10))[3].inputs\n",
    "reference_output = list(client.list_examples(dataset_id=dataset.id, limit=10))[3].outputs"
   ]
  },
  {
   "cell_type": "markdown",
   "id": "a9b290ef",
   "metadata": {},
   "source": [
    "### RAG Pipeline"
   ]
  },
  {
   "cell_type": "code",
   "execution_count": null,
   "id": "489993f3",
   "metadata": {},
   "outputs": [],
   "source": [
    "qdrant_client = QdrantClient(url=\"http://localhost:6333\")"
   ]
  },
  {
   "cell_type": "code",
   "execution_count": null,
   "id": "c8fcee88",
   "metadata": {},
   "outputs": [],
   "source": [
    "def get_embedding(text, model=\"text-embedding-3-small\"):\n",
    "    response = openai.embeddings.create(\n",
    "        input=text,\n",
    "        model=model,\n",
    "    )\n",
    "\n",
    "    return response.data[0].embedding\n",
    "\n",
    "\n",
    "def retrieve_data(query, qdrant_client, k=5):\n",
    "\n",
    "    query_embedding = get_embedding(query)\n",
    "\n",
    "    results = qdrant_client.query_points(\n",
    "        collection_name=\"Amazon-items-collection-00\",\n",
    "        query=query_embedding,\n",
    "        limit=k,\n",
    "    )\n",
    "\n",
    "    retrieved_context_ids = []\n",
    "    retrieved_context = []\n",
    "    similarity_scores = []\n",
    "\n",
    "    for result in results.points:\n",
    "        retrieved_context_ids.append(result.payload[\"parent_asin\"])\n",
    "        retrieved_context.append(result.payload[\"description\"])\n",
    "        similarity_scores.append(result.score)\n",
    "\n",
    "    return {\n",
    "        \"retrieved_context_ids\": retrieved_context_ids,\n",
    "        \"retrieved_context\": retrieved_context,\n",
    "        \"similarity_scores\": similarity_scores,\n",
    "    }\n",
    "\n",
    "\n",
    "def process_context(context):\n",
    "\n",
    "    formatted_context = \"\"\n",
    "\n",
    "    for id, chunk in zip(context[\"retrieved_context_ids\"], context[\"retrieved_context\"]):\n",
    "        formatted_context += f\"- {id}: {chunk}\\n\"\n",
    "\n",
    "    return formatted_context\n",
    "\n",
    "\n",
    "def build_prompt(preprocessed_context, question):\n",
    "\n",
    "    prompt = f\"\"\"\n",
    "You are a shopping assistant that can answer questions about the products in stock.\n",
    "\n",
    "You will be given a question and a list of context.\n",
    "\n",
    "Instructtions:\n",
    "- You need to answer the question based on the provided context only.\n",
    "- Never use word context and refer to it as the available products.\n",
    "\n",
    "Context:\n",
    "{preprocessed_context}\n",
    "\n",
    "Question:\n",
    "{question}\n",
    "\"\"\"\n",
    "\n",
    "    return prompt\n",
    "\n",
    "def generate_answer(prompt):\n",
    "\n",
    "    response = openai.chat.completions.create(\n",
    "        model=\"gpt-4.1-mini\",\n",
    "        messages=[{\"role\": \"system\", \"content\": prompt}],\n",
    "        temperature=0.5,\n",
    "    )\n",
    "\n",
    "    return response.choices[0].message.content\n",
    "\n",
    "\n",
    "def rag_pipeline(question, qdrant_client, top_k=5):\n",
    "\n",
    "    retrieved_context = retrieve_data(question, qdrant_client, top_k)\n",
    "    preprocessed_context = process_context(retrieved_context)\n",
    "    prompt = build_prompt(preprocessed_context, question)\n",
    "    answer = generate_answer(prompt)\n",
    "\n",
    "    final_result = {\n",
    "        \"answer\": answer,\n",
    "        \"question\": question,\n",
    "        \"retrieved_context_ids\": retrieved_context[\"retrieved_context_ids\"],\n",
    "        \"retrieved_context\": retrieved_context[\"retrieved_context\"],\n",
    "        \"similarity_scores\": retrieved_context[\"similarity_scores\"]\n",
    "    }\n",
    "\n",
    "    return final_result"
   ]
  },
  {
   "cell_type": "code",
   "execution_count": null,
   "id": "3001aa30",
   "metadata": {},
   "outputs": [],
   "source": [
    "rag_pipeline(\"Can I get some charger?\", qdrant_client, top_k=5)"
   ]
  },
  {
   "cell_type": "markdown",
   "id": "073a4dc6",
   "metadata": {},
   "source": [
    "### RAGAS metrics"
   ]
  },
  {
   "cell_type": "code",
   "execution_count": null,
   "id": "ec3359cd",
   "metadata": {},
   "outputs": [],
   "source": [
    "from ragas.dataset_schema import SingleTurnSample \n",
    "from ragas.metrics import IDBasedContextPrecision, IDBasedContextRecall, Faithfulness, ResponseRelevancy\n",
    "\n",
    "ragas_llm = LangchainLLMWrapper(ChatOpenAI(model=\"gpt-4.1-mini\"))\n",
    "ragas_embeddings = LangchainEmbeddingsWrapper(OpenAIEmbeddings(model=\"text-embedding-3-small\"))"
   ]
  },
  {
   "cell_type": "code",
   "execution_count": null,
   "id": "b90a2514",
   "metadata": {},
   "outputs": [],
   "source": [
    "reference_input"
   ]
  },
  {
   "cell_type": "code",
   "execution_count": null,
   "id": "6799e806",
   "metadata": {},
   "outputs": [],
   "source": [
    "reference_output"
   ]
  },
  {
   "cell_type": "code",
   "execution_count": null,
   "id": "8c4ecb8b",
   "metadata": {},
   "outputs": [],
   "source": [
    "result = rag_pipeline(reference_input[\"question\"], qdrant_client)"
   ]
  },
  {
   "cell_type": "code",
   "execution_count": null,
   "id": "6cf549eb",
   "metadata": {},
   "outputs": [],
   "source": [
    "result"
   ]
  },
  {
   "cell_type": "code",
   "execution_count": null,
   "id": "669a554b",
   "metadata": {},
   "outputs": [],
   "source": [
    "async def ragas_faithfulness(run, example):\n",
    "\n",
    "    sample = SingleTurnSample(\n",
    "            user_input=run[\"question\"],\n",
    "            response=run[\"answer\"],\n",
    "            retrieved_contexts=run[\"retrieved_context\"]\n",
    "        )\n",
    "    scorer = Faithfulness(llm=ragas_llm)\n",
    "\n",
    "    return await scorer.single_turn_ascore(sample)"
   ]
  },
  {
   "cell_type": "code",
   "execution_count": null,
   "id": "aa8e711d",
   "metadata": {},
   "outputs": [],
   "source": [
    "await ragas_faithfulness(result, \"\")"
   ]
  },
  {
   "cell_type": "code",
   "execution_count": null,
   "id": "2c0993e9",
   "metadata": {},
   "outputs": [],
   "source": [
    "async def ragas_responce_relevancy(run, example):\n",
    "\n",
    "    sample = SingleTurnSample(\n",
    "            user_input=run[\"question\"],\n",
    "            response=run[\"answer\"],\n",
    "            retrieved_contexts=run[\"retrieved_context\"]\n",
    "        )\n",
    "    scorer = ResponseRelevancy(llm=ragas_llm, embeddings=ragas_embeddings)\n",
    "\n",
    "    return await scorer.single_turn_ascore(sample)"
   ]
  },
  {
   "cell_type": "code",
   "execution_count": null,
   "id": "d8180aaa",
   "metadata": {},
   "outputs": [],
   "source": [
    "await ragas_responce_relevancy(result, \"\")"
   ]
  },
  {
   "cell_type": "code",
   "execution_count": null,
   "id": "78583d3f",
   "metadata": {},
   "outputs": [],
   "source": [
    "async def ragas_context_precision_id_based(run, example):\n",
    "\n",
    "    sample = SingleTurnSample(\n",
    "            retrieved_context_ids=run[\"retrieved_context_ids\"],\n",
    "            reference_context_ids=example[\"reference_context_ids\"]\n",
    "        )\n",
    "    scorer = IDBasedContextPrecision()\n",
    "\n",
    "    return await scorer.single_turn_ascore(sample)"
   ]
  },
  {
   "cell_type": "code",
   "execution_count": null,
   "id": "0a55b621",
   "metadata": {},
   "outputs": [],
   "source": [
    "await ragas_context_precision_id_based(result, reference_output)"
   ]
  },
  {
   "cell_type": "code",
   "execution_count": null,
   "id": "33782478",
   "metadata": {},
   "outputs": [],
   "source": [
    "async def ragas_context_recall_id_based(run, example):\n",
    "\n",
    "    sample = SingleTurnSample(\n",
    "            retrieved_context_ids=run[\"retrieved_context_ids\"],\n",
    "            reference_context_ids=example[\"reference_context_ids\"]\n",
    "        )\n",
    "    scorer = IDBasedContextRecall()\n",
    "\n",
    "    return await scorer.single_turn_ascore(sample)"
   ]
  },
  {
   "cell_type": "code",
   "execution_count": null,
   "id": "8b696f0a",
   "metadata": {},
   "outputs": [],
   "source": [
    "await ragas_context_recall_id_based(result, reference_output)"
   ]
  },
  {
   "cell_type": "code",
   "execution_count": null,
   "id": "89ceed28",
   "metadata": {},
   "outputs": [],
   "source": []
  }
 ],
 "metadata": {
  "kernelspec": {
   "display_name": ".venv",
   "language": "python",
   "name": "python3"
  },
  "language_info": {
   "codemirror_mode": {
    "name": "ipython",
    "version": 3
   },
   "file_extension": ".py",
   "mimetype": "text/x-python",
   "name": "python",
   "nbconvert_exporter": "python",
   "pygments_lexer": "ipython3",
   "version": "3.12.8"
  }
 },
 "nbformat": 4,
 "nbformat_minor": 5
}
